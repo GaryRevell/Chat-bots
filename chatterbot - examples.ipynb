{
 "cells": [
  {
   "cell_type": "code",
   "execution_count": 9,
   "metadata": {},
   "outputs": [
    {
     "name": "stdout",
     "output_type": "stream",
     "text": [
      "List Trainer: [####################] 100%\n",
      "I'm doing great.\n",
      "Hi there!\n",
      "How are you doing?\n"
     ]
    }
   ],
   "source": [
    "from chatterbot.trainers import ListTrainer\n",
    "from chatterbot import ChatBot\n",
    "\n",
    "chatbot = ChatBot(\"Botty\")\n",
    "\n",
    "conversation = [\n",
    "    \"Hello\",\n",
    "    \"Hi there!\",\n",
    "    \"How are you doing?\",\n",
    "    \"I'm doing great.\",\n",
    "    \"That is good to hear\",\n",
    "    \"Thank you.\",\n",
    "    \"You're welcome.\"\n",
    "]\n",
    "\n",
    "chatbot.set_trainer(ListTrainer)\n",
    "chatbot.train(conversation)\n",
    "\n",
    "response = chatbot.get_response(\"Good morning!\")\n",
    "print(response)\n",
    "\n",
    "response = chatbot.get_response(\"Hello\")\n",
    "print(response)\n",
    "response = chatbot.get_response(\"Hi\")\n",
    "print(response)\n"
   ]
  },
  {
   "cell_type": "code",
   "execution_count": 11,
   "metadata": {},
   "outputs": [
    {
     "name": "stdout",
     "output_type": "stream",
     "text": [
      "['Hello', 'Hi there!', 'How are you doing?', \"I'm doing great.\", 'That is good to hear', 'Thank you.', \"You're welcome.\"]\n",
      "> How\n",
      "Hi there!\n",
      "['Hello', 'Hi there!', 'How are you doing?', \"I'm doing great.\", 'That is good to hear', 'Thank you.', \"You're welcome.\"]\n",
      "> How are\n",
      "I'm doing great.\n",
      "['Hello', 'Hi there!', 'How are you doing?', \"I'm doing great.\", 'That is good to hear', 'Thank you.', \"You're welcome.\"]\n",
      "> I'm\n",
      "That is good to hear\n",
      "['Hello', 'Hi there!', 'How are you doing?', \"I'm doing great.\", 'That is good to hear', 'Thank you.', \"You're welcome.\"]\n",
      "> Thank\n",
      "You're welcome.\n",
      "['Hello', 'Hi there!', 'How are you doing?', \"I'm doing great.\", 'That is good to hear', 'Thank you.', \"You're welcome.\"]\n",
      "> You're\n",
      "You're welcome.\n",
      "['Hello', 'Hi there!', 'How are you doing?', \"I'm doing great.\", 'That is good to hear', 'Thank you.', \"You're welcome.\"]\n",
      "> Hello\n",
      "Hi there!\n",
      "['Hello', 'Hi there!', 'How are you doing?', \"I'm doing great.\", 'That is good to hear', 'Thank you.', \"You're welcome.\"]\n",
      "> I'm doing great\n",
      "That is good to hear\n",
      "['Hello', 'Hi there!', 'How are you doing?', \"I'm doing great.\", 'That is good to hear', 'Thank you.', \"You're welcome.\"]\n",
      "> exit\n"
     ]
    }
   ],
   "source": [
    "while True:\n",
    "    print(conversation)\n",
    "    req = input(\"> \")\n",
    "    if req == \"exit\":\n",
    "        break\n",
    "    print(chatbot.get_response(req))\n",
    "\n",
    "    "
   ]
  },
  {
   "cell_type": "code",
   "execution_count": 2,
   "metadata": {},
   "outputs": [
    {
     "name": "stdout",
     "output_type": "stream",
     "text": [
      "Type something to begin...\n",
      "1\n"
     ]
    },
    {
     "name": "stderr",
     "output_type": "stream",
     "text": [
      "INFO:chatterbot.adapters:Received input statement: 1\n",
      "INFO:chatterbot.adapters:\"1\" is not a known statement\n",
      "INFO:chatterbot.adapters:MathematicalEvaluation selected \"1 = 1\" as a response with a confidence of 1\n",
      "INFO:chatterbot.adapters:TimeLogicAdapter selected \"The current time is 01:32 PM\" as a response with a confidence of 0\n",
      "INFO:chatterbot.adapters:Using \"1\" as a close match to \"1\"\n",
      "INFO:chatterbot.adapters:No response to \"1\" found. Selecting a random response.\n",
      "INFO:chatterbot.adapters:BestMatch selected \"bye\" as a response with a confidence of 0\n",
      "INFO:chatterbot.adapters:NoKnowledgeAdapter selected \"1\" as a response with a confidence of 0\n"
     ]
    },
    {
     "name": "stdout",
     "output_type": "stream",
     "text": [
      "1 = 1\n",
      "1 = 1\n",
      "aa\n"
     ]
    },
    {
     "name": "stderr",
     "output_type": "stream",
     "text": [
      "INFO:chatterbot.adapters:Received input statement: aa\n",
      "INFO:chatterbot.adapters:\"aa\" is not a known statement\n",
      "INFO:chatterbot.adapters:Not processing the statement using MathematicalEvaluation\n",
      "INFO:chatterbot.adapters:TimeLogicAdapter selected \"The current time is 01:32 PM\" as a response with a confidence of 0\n",
      "INFO:chatterbot.adapters:Using \"aa\" as a close match to \"aa\"\n",
      "INFO:chatterbot.adapters:No response to \"aa\" found. Selecting a random response.\n",
      "INFO:chatterbot.adapters:BestMatch selected \"The current time is 01:20 PM\" as a response with a confidence of 0\n",
      "INFO:chatterbot.adapters:NoKnowledgeAdapter selected \"aa\" as a response with a confidence of 0\n",
      "INFO:chatterbot.chatterbot:Adding \"aa\" as a response to \"1\"\n"
     ]
    },
    {
     "name": "stdout",
     "output_type": "stream",
     "text": [
      "The current time is 01:32 PM\n",
      "The current time is 01:32 PM\n",
      "bb\n"
     ]
    },
    {
     "name": "stderr",
     "output_type": "stream",
     "text": [
      "INFO:chatterbot.adapters:Received input statement: bb\n",
      "INFO:chatterbot.adapters:\"bb\" is not a known statement\n",
      "INFO:chatterbot.adapters:Not processing the statement using MathematicalEvaluation\n",
      "INFO:chatterbot.adapters:TimeLogicAdapter selected \"The current time is 01:32 PM\" as a response with a confidence of 0\n",
      "INFO:chatterbot.adapters:Using \"bb\" as a close match to \"bb\"\n",
      "INFO:chatterbot.adapters:No response to \"bb\" found. Selecting a random response.\n",
      "INFO:chatterbot.adapters:BestMatch selected \"good afternoon\" as a response with a confidence of 0\n",
      "INFO:chatterbot.adapters:NoKnowledgeAdapter selected \"bb\" as a response with a confidence of 0\n",
      "INFO:chatterbot.chatterbot:Adding \"bb\" as a response to \"1\"\n"
     ]
    },
    {
     "name": "stdout",
     "output_type": "stream",
     "text": [
      "The current time is 01:32 PM\n",
      "The current time is 01:32 PM\n",
      "ccc\n"
     ]
    },
    {
     "name": "stderr",
     "output_type": "stream",
     "text": [
      "INFO:chatterbot.adapters:Received input statement: ccc\n",
      "INFO:chatterbot.adapters:\"ccc\" is not a known statement\n",
      "INFO:chatterbot.adapters:Not processing the statement using MathematicalEvaluation\n",
      "INFO:chatterbot.adapters:TimeLogicAdapter selected \"The current time is 01:32 PM\" as a response with a confidence of 0\n",
      "INFO:chatterbot.adapters:Using \"ccc\" as a close match to \"ccc\"\n",
      "INFO:chatterbot.adapters:No response to \"ccc\" found. Selecting a random response.\n",
      "INFO:chatterbot.adapters:BestMatch selected \"20 * 4 = 80\" as a response with a confidence of 0\n",
      "INFO:chatterbot.adapters:NoKnowledgeAdapter selected \"ccc\" as a response with a confidence of 0\n",
      "INFO:chatterbot.chatterbot:Adding \"ccc\" as a response to \"1\"\n"
     ]
    },
    {
     "name": "stdout",
     "output_type": "stream",
     "text": [
      "The current time is 01:32 PM\n",
      "The current time is 01:32 PM\n",
      "\n"
     ]
    },
    {
     "name": "stderr",
     "output_type": "stream",
     "text": [
      "INFO:chatterbot.adapters:Received input statement: \n",
      "INFO:chatterbot.adapters:\"\" is a known statement\n",
      "INFO:chatterbot.adapters:Not processing the statement using MathematicalEvaluation\n",
      "INFO:chatterbot.adapters:TimeLogicAdapter selected \"The current time is 01:32 PM\" as a response with a confidence of 0\n",
      "INFO:chatterbot.adapters:Using \"\" as a close match to \"\"\n",
      "INFO:chatterbot.adapters:Selecting response from 1 optimal responses.\n",
      "INFO:chatterbot.response_selection:Selecting first response from list of 1 options.\n",
      "INFO:chatterbot.adapters:Response selected. Using \"\"\n",
      "INFO:chatterbot.adapters:BestMatch selected \"\" as a response with a confidence of 0\n",
      "INFO:chatterbot.adapters:NoKnowledgeAdapter selected \"\" as a response with a confidence of 0\n",
      "INFO:chatterbot.chatterbot:Adding \"\" as a response to \"1\"\n"
     ]
    },
    {
     "name": "stdout",
     "output_type": "stream",
     "text": [
      "\n",
      "\n",
      "\n"
     ]
    },
    {
     "name": "stderr",
     "output_type": "stream",
     "text": [
      "INFO:chatterbot.adapters:Received input statement: \n",
      "INFO:chatterbot.adapters:\"\" is a known statement\n",
      "INFO:chatterbot.adapters:Not processing the statement using MathematicalEvaluation\n",
      "INFO:chatterbot.adapters:TimeLogicAdapter selected \"The current time is 01:33 PM\" as a response with a confidence of 0\n",
      "INFO:chatterbot.adapters:Using \"\" as a close match to \"\"\n",
      "INFO:chatterbot.adapters:Selecting response from 1 optimal responses.\n",
      "INFO:chatterbot.response_selection:Selecting first response from list of 1 options.\n",
      "INFO:chatterbot.adapters:Response selected. Using \"\"\n",
      "INFO:chatterbot.adapters:BestMatch selected \"\" as a response with a confidence of 0\n",
      "INFO:chatterbot.adapters:NoKnowledgeAdapter selected \"\" as a response with a confidence of 0\n",
      "INFO:chatterbot.chatterbot:Adding \"\" as a response to \"\"\n"
     ]
    },
    {
     "name": "stdout",
     "output_type": "stream",
     "text": [
      "\n",
      "\n",
      "\n"
     ]
    },
    {
     "name": "stderr",
     "output_type": "stream",
     "text": [
      "INFO:chatterbot.adapters:Received input statement: \n",
      "INFO:chatterbot.adapters:\"\" is a known statement\n",
      "INFO:chatterbot.adapters:Not processing the statement using MathematicalEvaluation\n",
      "INFO:chatterbot.adapters:TimeLogicAdapter selected \"The current time is 01:33 PM\" as a response with a confidence of 0\n",
      "INFO:chatterbot.adapters:Using \"\" as a close match to \"\"\n",
      "INFO:chatterbot.adapters:Selecting response from 1 optimal responses.\n",
      "INFO:chatterbot.response_selection:Selecting first response from list of 1 options.\n",
      "INFO:chatterbot.adapters:Response selected. Using \"\"\n",
      "INFO:chatterbot.adapters:BestMatch selected \"\" as a response with a confidence of 0\n",
      "INFO:chatterbot.adapters:NoKnowledgeAdapter selected \"\" as a response with a confidence of 0\n",
      "INFO:chatterbot.chatterbot:Adding \"\" as a response to \"\"\n"
     ]
    },
    {
     "name": "stdout",
     "output_type": "stream",
     "text": [
      "\n",
      "\n",
      "\n"
     ]
    },
    {
     "name": "stderr",
     "output_type": "stream",
     "text": [
      "INFO:chatterbot.adapters:Received input statement: \n",
      "INFO:chatterbot.adapters:\"\" is a known statement\n",
      "INFO:chatterbot.adapters:Not processing the statement using MathematicalEvaluation\n",
      "INFO:chatterbot.adapters:TimeLogicAdapter selected \"The current time is 01:33 PM\" as a response with a confidence of 0\n",
      "INFO:chatterbot.adapters:Using \"\" as a close match to \"\"\n",
      "INFO:chatterbot.adapters:Selecting response from 1 optimal responses.\n",
      "INFO:chatterbot.response_selection:Selecting first response from list of 1 options.\n",
      "INFO:chatterbot.adapters:Response selected. Using \"\"\n",
      "INFO:chatterbot.adapters:BestMatch selected \"\" as a response with a confidence of 0\n",
      "INFO:chatterbot.adapters:NoKnowledgeAdapter selected \"\" as a response with a confidence of 0\n",
      "INFO:chatterbot.chatterbot:Adding \"\" as a response to \"\"\n"
     ]
    },
    {
     "name": "stdout",
     "output_type": "stream",
     "text": [
      "\n",
      "\n",
      "\n"
     ]
    },
    {
     "name": "stderr",
     "output_type": "stream",
     "text": [
      "INFO:chatterbot.adapters:Received input statement: \n",
      "INFO:chatterbot.adapters:\"\" is a known statement\n",
      "INFO:chatterbot.adapters:Not processing the statement using MathematicalEvaluation\n",
      "INFO:chatterbot.adapters:TimeLogicAdapter selected \"The current time is 01:33 PM\" as a response with a confidence of 0\n",
      "INFO:chatterbot.adapters:Using \"\" as a close match to \"\"\n",
      "INFO:chatterbot.adapters:Selecting response from 1 optimal responses.\n",
      "INFO:chatterbot.response_selection:Selecting first response from list of 1 options.\n",
      "INFO:chatterbot.adapters:Response selected. Using \"\"\n",
      "INFO:chatterbot.adapters:BestMatch selected \"\" as a response with a confidence of 0\n",
      "INFO:chatterbot.adapters:NoKnowledgeAdapter selected \"\" as a response with a confidence of 0\n",
      "INFO:chatterbot.chatterbot:Adding \"\" as a response to \"\"\n"
     ]
    },
    {
     "name": "stdout",
     "output_type": "stream",
     "text": [
      "\n",
      "\n",
      "\n"
     ]
    },
    {
     "name": "stderr",
     "output_type": "stream",
     "text": [
      "INFO:chatterbot.adapters:Received input statement: \n",
      "INFO:chatterbot.adapters:\"\" is a known statement\n",
      "INFO:chatterbot.adapters:Not processing the statement using MathematicalEvaluation\n",
      "INFO:chatterbot.adapters:TimeLogicAdapter selected \"The current time is 01:33 PM\" as a response with a confidence of 0\n",
      "INFO:chatterbot.adapters:Using \"\" as a close match to \"\"\n",
      "INFO:chatterbot.adapters:Selecting response from 1 optimal responses.\n",
      "INFO:chatterbot.response_selection:Selecting first response from list of 1 options.\n",
      "INFO:chatterbot.adapters:Response selected. Using \"\"\n",
      "INFO:chatterbot.adapters:BestMatch selected \"\" as a response with a confidence of 0\n",
      "INFO:chatterbot.adapters:NoKnowledgeAdapter selected \"\" as a response with a confidence of 0\n",
      "INFO:chatterbot.chatterbot:Adding \"\" as a response to \"\"\n"
     ]
    },
    {
     "name": "stdout",
     "output_type": "stream",
     "text": [
      "\n",
      "\n"
     ]
    }
   ],
   "source": [
    "# -*- coding: utf-8 -*-\n",
    "from chatterbot import ChatBot\n",
    "\n",
    "\n",
    "# Uncomment the following lines to enable verbose logging\n",
    "import logging\n",
    "logging.basicConfig(level=logging.INFO)\n",
    "\n",
    "# Create a new instance of a ChatBot\n",
    "bot = ChatBot(\n",
    "    \"Terminal\",\n",
    "    storage_adapter=\"chatterbot.storage.SQLStorageAdapter\",\n",
    "    logic_adapters=[\n",
    "        \"chatterbot.logic.MathematicalEvaluation\",\n",
    "        \"chatterbot.logic.TimeLogicAdapter\",\n",
    "        \"chatterbot.logic.BestMatch\"\n",
    "    ],\n",
    "    input_adapter=\"chatterbot.input.TerminalAdapter\",\n",
    "    output_adapter=\"chatterbot.output.TerminalAdapter\",\n",
    "    database=\"../database.db\"\n",
    ")\n",
    "\n",
    "print(\"Type something to begin...\")\n",
    "\n",
    "# The following loop will execute each time the user enters input\n",
    "for a in range(5):\n",
    "    try:\n",
    "        # We pass None to this method because the parameter\n",
    "        # is not used by the TerminalAdapter\n",
    "        bot_input = bot.get_response(None)\n",
    "        print(bot_input)\n",
    "        if bot_input == \"exit\":\n",
    "            break\n",
    "    # Press ctrl-c or ctrl-d on the keyboard to exit\n",
    "    except (KeyboardInterrupt, EOFError, SystemExit):\n",
    "        break\n",
    "\n",
    "        \n",
    "        "
   ]
  },
  {
   "cell_type": "code",
   "execution_count": 3,
   "metadata": {
    "collapsed": true
   },
   "outputs": [],
   "source": [
    "# -*- coding: utf-8 -*-\n",
    "from chatterbot import ChatBot\n",
    "import tkinter as tk\n",
    "try:\n",
    "    import ttk as ttk\n",
    "    import ScrolledText\n",
    "except ImportError:\n",
    "    import tkinter.ttk as ttk\n",
    "    import tkinter.scrolledtext as ScrolledText\n",
    "import time\n",
    "\n",
    "\n",
    "class TkinterGUIExample(tk.Tk):\n",
    "\n",
    "    def __init__(self, *args, **kwargs):\n",
    "        \"\"\"\n",
    "        Create & set window variables.\n",
    "        \"\"\"\n",
    "        tk.Tk.__init__(self, *args, **kwargs)\n",
    "\n",
    "        self.chatbot = ChatBot(\n",
    "            \"GUI Bot\",\n",
    "            storage_adapter=\"chatterbot.storage.SQLStorageAdapter\",\n",
    "            logic_adapters=[\n",
    "                \"chatterbot.logic.BestMatch\"\n",
    "            ],\n",
    "            input_adapter=\"chatterbot.input.VariableInputTypeAdapter\",\n",
    "            output_adapter=\"chatterbot.output.OutputAdapter\",\n",
    "            database=\"../database.db\"\n",
    "        )\n",
    "\n",
    "        self.title(\"Chatterbot\")\n",
    "\n",
    "        self.initialize()\n",
    "\n",
    "    def initialize(self):\n",
    "        \"\"\"\n",
    "        Set window layout.\n",
    "        \"\"\"\n",
    "        self.grid()\n",
    "\n",
    "        self.respond = ttk.Button(self, text='Get Response', command=self.get_response)\n",
    "        self.respond.grid(column=0, row=0, sticky='nesw', padx=3, pady=3)\n",
    "\n",
    "        self.usr_input = ttk.Entry(self, state='normal')\n",
    "        self.usr_input.grid(column=1, row=0, sticky='nesw', padx=3, pady=3)\n",
    "\n",
    "        self.conversation_lbl = ttk.Label(self, anchor=tk.E, text='Conversation:')\n",
    "        self.conversation_lbl.grid(column=0, row=1, sticky='nesw', padx=3, pady=3)\n",
    "\n",
    "        self.conversation = ScrolledText.ScrolledText(self, state='disabled')\n",
    "        self.conversation.grid(column=0, row=2, columnspan=2, sticky='nesw', padx=3, pady=3)\n",
    "\n",
    "    def get_response(self):\n",
    "        \"\"\"\n",
    "        Get a response from the chatbot and display it.\n",
    "        \"\"\"\n",
    "        user_input = self.usr_input.get()\n",
    "        self.usr_input.delete(0, tk.END)\n",
    "\n",
    "        response = self.chatbot.get_response(user_input)\n",
    "\n",
    "        self.conversation['state'] = 'normal'\n",
    "        self.conversation.insert(\n",
    "            tk.END, \"Human: \" + user_input + \"\\n\" + \"ChatBot: \" + str(response.text) + \"\\n\"\n",
    "        )\n",
    "        self.conversation['state'] = 'disabled'\n",
    "\n",
    "        time.sleep(0.5)\n",
    "\n",
    "\n",
    "gui_example = TkinterGUIExample()\n",
    "gui_example.mainloop()\n"
   ]
  },
  {
   "cell_type": "code",
   "execution_count": null,
   "metadata": {},
   "outputs": [
    {
     "name": "stdout",
     "output_type": "stream",
     "text": [
      "Type something to begin...\n",
      "Something\n"
     ]
    },
    {
     "name": "stderr",
     "output_type": "stream",
     "text": [
      "INFO:chatterbot.adapters:Received input statement: Something\n",
      "INFO:chatterbot.adapters:\"Something\" is not a known statement\n",
      "INFO:chatterbot.adapters:Not processing the statement using BestMatch\n",
      "INFO:chatterbot.adapters:NoKnowledgeAdapter selected \"Something\" as a response with a confidence of 1\n"
     ]
    },
    {
     "name": "stdout",
     "output_type": "stream",
     "text": [
      "\n",
      " Is \"Something\" this a coherent response to \"Something\"? \n",
      "\n",
      "n\n",
      "Something\n",
      "help\n"
     ]
    },
    {
     "name": "stderr",
     "output_type": "stream",
     "text": [
      "INFO:chatterbot.adapters:Received input statement: help\n",
      "INFO:chatterbot.adapters:\"help\" is not a known statement\n",
      "INFO:chatterbot.adapters:Not processing the statement using BestMatch\n",
      "INFO:chatterbot.adapters:NoKnowledgeAdapter selected \"help\" as a response with a confidence of 1\n"
     ]
    },
    {
     "name": "stdout",
     "output_type": "stream",
     "text": [
      "\n",
      " Is \"help\" this a coherent response to \"help\"? \n",
      "\n",
      "no\n",
      "help\n",
      "How are we supposed to do this?\n"
     ]
    },
    {
     "name": "stderr",
     "output_type": "stream",
     "text": [
      "INFO:chatterbot.adapters:Received input statement: How are we supposed to do this?\n",
      "INFO:chatterbot.adapters:\"How are we supposed to do this?\" is not a known statement\n",
      "INFO:chatterbot.adapters:Not processing the statement using BestMatch\n",
      "INFO:chatterbot.adapters:NoKnowledgeAdapter selected \"How are we supposed to do this?\" as a response with a confidence of 1\n"
     ]
    },
    {
     "name": "stdout",
     "output_type": "stream",
     "text": [
      "\n",
      " Is \"How are we supposed to do this?\" this a coherent response to \"How are we supposed to do this?\"? \n",
      "\n",
      "y\n"
     ]
    },
    {
     "name": "stderr",
     "output_type": "stream",
     "text": [
      "INFO:chatterbot.chatterbot:Adding \"How are we supposed to do this?\" as a response to \"How are we supposed to do this?\"\n"
     ]
    },
    {
     "name": "stdout",
     "output_type": "stream",
     "text": [
      "How are we supposed to do this?\n"
     ]
    }
   ],
   "source": [
    "# -*- coding: utf-8 -*-\n",
    "from chatterbot import ChatBot\n",
    "\n",
    "\"\"\"\n",
    "This example shows how to create a chat bot that\n",
    "will learn responses based on an additional feedback\n",
    "element from the user.\n",
    "\"\"\"\n",
    "\n",
    "# Uncomment the following line to enable verbose logging\n",
    "import logging\n",
    "logging.basicConfig(level=logging.INFO)\n",
    "\n",
    "# Create a new instance of a ChatBot\n",
    "bot = ChatBot(\n",
    "    'Feedback Learning Bot',\n",
    "    storage_adapter='chatterbot.storage.SQLStorageAdapter',\n",
    "    logic_adapters=[\n",
    "        'chatterbot.logic.BestMatch'\n",
    "    ],\n",
    "    input_adapter='chatterbot.input.TerminalAdapter',\n",
    "    output_adapter='chatterbot.output.TerminalAdapter'\n",
    ")\n",
    "\n",
    "\n",
    "CONVERSATION_ID = bot.storage.create_conversation()\n",
    "\n",
    "\n",
    "def get_feedback():\n",
    "    from chatterbot.utils import input_function\n",
    "\n",
    "    text = input_function()\n",
    "\n",
    "    if 'y' in text.lower():\n",
    "        return True\n",
    "    elif 'n' in text.lower():\n",
    "        return False\n",
    "    else:\n",
    "        print('Please type either \"Y\" or \"N\"')\n",
    "        return get_feedback()\n",
    "\n",
    "\n",
    "print('Type something to begin...')\n",
    "\n",
    "# The following loop will execute each time the user enters input\n",
    "while True:\n",
    "    try:\n",
    "        input_statement = bot.input.process_input_statement()\n",
    "        if input_statement == \"exit\":\n",
    "            break\n",
    "            \n",
    "        statement, response = bot.generate_response(input_statement, CONVERSATION_ID)\n",
    "        print('\\n Is \"{}\" this a coherent response to \"{}\"? \\n'.format(response, input_statement))\n",
    "\n",
    "        if get_feedback():\n",
    "            bot.learn_response(response, input_statement)\n",
    "            # Update the conversation history for the bot\n",
    "            # It is important that this happens last, after the learning step\n",
    "            bot.storage.add_to_conversation(CONVERSATION_ID, statement, response)\n",
    "\n",
    "        bot.output.process_response(response)\n",
    "\n",
    "    # Press ctrl-c or ctrl-d on the keyboard to exit\n",
    "    except (KeyboardInterrupt, EOFError, SystemExit):\n",
    "        break\n"
   ]
  },
  {
   "cell_type": "code",
   "execution_count": null,
   "metadata": {
    "collapsed": true
   },
   "outputs": [],
   "source": []
  }
 ],
 "metadata": {
  "kernelspec": {
   "display_name": "Python [default]",
   "language": "python",
   "name": "python3"
  },
  "language_info": {
   "codemirror_mode": {
    "name": "ipython",
    "version": 3
   },
   "file_extension": ".py",
   "mimetype": "text/x-python",
   "name": "python",
   "nbconvert_exporter": "python",
   "pygments_lexer": "ipython3",
   "version": "3.5.4"
  }
 },
 "nbformat": 4,
 "nbformat_minor": 2
}
